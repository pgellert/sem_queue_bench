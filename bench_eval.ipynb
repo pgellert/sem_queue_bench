{
  "nbformat": 4,
  "nbformat_minor": 0,
  "metadata": {
    "colab": {
      "name": "Bench_eval.ipynb",
      "provenance": [],
      "toc_visible": true
    },
    "kernelspec": {
      "name": "python3",
      "display_name": "Python 3"
    }
  },
  "cells": [
    {
      "cell_type": "code",
      "metadata": {
        "id": "j3bBPKPspn9O",
        "colab_type": "code",
        "colab": {}
      },
      "source": [
        "import pandas as pd\n",
        "import matplotlib.pyplot as plt"
      ],
      "execution_count": 0,
      "outputs": []
    },
    {
      "cell_type": "code",
      "metadata": {
        "id": "5b9bsoM0pqNR",
        "colab_type": "code",
        "colab": {
          "base_uri": "https://localhost:8080/",
          "height": 297
        },
        "outputId": "fede530d-83e5-4cb0-c461-932399a0e944"
      },
      "source": [
        "df = pd.read_csv('data.csv').reset_index()\n",
        "df.describe()"
      ],
      "execution_count": 26,
      "outputs": [
        {
          "output_type": "execute_result",
          "data": {
            "text/html": [
              "<div>\n",
              "<style scoped>\n",
              "    .dataframe tbody tr th:only-of-type {\n",
              "        vertical-align: middle;\n",
              "    }\n",
              "\n",
              "    .dataframe tbody tr th {\n",
              "        vertical-align: top;\n",
              "    }\n",
              "\n",
              "    .dataframe thead th {\n",
              "        text-align: right;\n",
              "    }\n",
              "</style>\n",
              "<table border=\"1\" class=\"dataframe\">\n",
              "  <thead>\n",
              "    <tr style=\"text-align: right;\">\n",
              "      <th></th>\n",
              "      <th>index</th>\n",
              "      <th>sem_q_size</th>\n",
              "      <th>produce_size</th>\n",
              "      <th>num_of_iters</th>\n",
              "      <th>seq_time</th>\n",
              "      <th>threaded_time</th>\n",
              "    </tr>\n",
              "  </thead>\n",
              "  <tbody>\n",
              "    <tr>\n",
              "      <th>count</th>\n",
              "      <td>33.00000</td>\n",
              "      <td>33.000000</td>\n",
              "      <td>33.000000</td>\n",
              "      <td>33.000000</td>\n",
              "      <td>33.000000</td>\n",
              "      <td>33.000000</td>\n",
              "    </tr>\n",
              "    <tr>\n",
              "      <th>mean</th>\n",
              "      <td>16.00000</td>\n",
              "      <td>6209.090909</td>\n",
              "      <td>1253.636364</td>\n",
              "      <td>5.363636</td>\n",
              "      <td>21.238667</td>\n",
              "      <td>8.517394</td>\n",
              "    </tr>\n",
              "    <tr>\n",
              "      <th>std</th>\n",
              "      <td>9.66954</td>\n",
              "      <td>4782.282642</td>\n",
              "      <td>3298.952313</td>\n",
              "      <td>4.567673</td>\n",
              "      <td>55.590723</td>\n",
              "      <td>21.387666</td>\n",
              "    </tr>\n",
              "    <tr>\n",
              "      <th>min</th>\n",
              "      <td>0.00000</td>\n",
              "      <td>100.000000</td>\n",
              "      <td>10.000000</td>\n",
              "      <td>1.000000</td>\n",
              "      <td>0.277000</td>\n",
              "      <td>0.513000</td>\n",
              "    </tr>\n",
              "    <tr>\n",
              "      <th>25%</th>\n",
              "      <td>8.00000</td>\n",
              "      <td>100.000000</td>\n",
              "      <td>10.000000</td>\n",
              "      <td>1.000000</td>\n",
              "      <td>0.280000</td>\n",
              "      <td>0.551000</td>\n",
              "    </tr>\n",
              "    <tr>\n",
              "      <th>50%</th>\n",
              "      <td>16.00000</td>\n",
              "      <td>10000.000000</td>\n",
              "      <td>10.000000</td>\n",
              "      <td>1.000000</td>\n",
              "      <td>0.466000</td>\n",
              "      <td>0.678000</td>\n",
              "    </tr>\n",
              "    <tr>\n",
              "      <th>75%</th>\n",
              "      <td>24.00000</td>\n",
              "      <td>10000.000000</td>\n",
              "      <td>100.000000</td>\n",
              "      <td>10.000000</td>\n",
              "      <td>1.713000</td>\n",
              "      <td>0.852000</td>\n",
              "    </tr>\n",
              "    <tr>\n",
              "      <th>max</th>\n",
              "      <td>32.00000</td>\n",
              "      <td>10000.000000</td>\n",
              "      <td>10000.000000</td>\n",
              "      <td>10.000000</td>\n",
              "      <td>174.275000</td>\n",
              "      <td>67.172000</td>\n",
              "    </tr>\n",
              "  </tbody>\n",
              "</table>\n",
              "</div>"
            ],
            "text/plain": [
              "          index    sem_q_size  ...    seq_time  threaded_time\n",
              "count  33.00000     33.000000  ...   33.000000      33.000000\n",
              "mean   16.00000   6209.090909  ...   21.238667       8.517394\n",
              "std     9.66954   4782.282642  ...   55.590723      21.387666\n",
              "min     0.00000    100.000000  ...    0.277000       0.513000\n",
              "25%     8.00000    100.000000  ...    0.280000       0.551000\n",
              "50%    16.00000  10000.000000  ...    0.466000       0.678000\n",
              "75%    24.00000  10000.000000  ...    1.713000       0.852000\n",
              "max    32.00000  10000.000000  ...  174.275000      67.172000\n",
              "\n",
              "[8 rows x 6 columns]"
            ]
          },
          "metadata": {
            "tags": []
          },
          "execution_count": 26
        }
      ]
    },
    {
      "cell_type": "code",
      "metadata": {
        "id": "gpB1w4YmqmfV",
        "colab_type": "code",
        "colab": {
          "base_uri": "https://localhost:8080/",
          "height": 136
        },
        "outputId": "9b711c01-cdb5-4edc-8718-898b5a93be57"
      },
      "source": [
        "df.dtypes"
      ],
      "execution_count": 27,
      "outputs": [
        {
          "output_type": "execute_result",
          "data": {
            "text/plain": [
              "index              int64\n",
              "sem_q_size         int64\n",
              "produce_size       int64\n",
              "num_of_iters       int64\n",
              "seq_time         float64\n",
              "threaded_time    float64\n",
              "dtype: object"
            ]
          },
          "metadata": {
            "tags": []
          },
          "execution_count": 27
        }
      ]
    },
    {
      "cell_type": "code",
      "metadata": {
        "id": "YpwGsOo7p7WX",
        "colab_type": "code",
        "colab": {
          "base_uri": "https://localhost:8080/",
          "height": 283
        },
        "outputId": "bcfcc3eb-bac1-424a-fdc9-946688d617d0"
      },
      "source": [
        "x = df['produce_size'] * df['num_of_iters']\n",
        "y1 = df['seq_time']\n",
        "y2 = df['threaded_time']\n",
        "\n",
        "plt.scatter(x, y1, c='orange')\n",
        "plt.scatter(x, y2, c='blue')\n",
        "plt.xscale('log')\n",
        "plt.yscale('log')\n",
        "plt.legend(labels=['Sequential time', 'Threaded time'])\n",
        "plt.ylabel('Time (ms)')\n",
        "plt.xlabel('Total produced items')\n",
        "plt.show()"
      ],
      "execution_count": 45,
      "outputs": [
        {
          "output_type": "display_data",
          "data": {
            "image/png": "[encoded data removed]",
            "text/plain": [
              "<Figure size 432x288 with 1 Axes>"
            ]
          },
          "metadata": {
            "tags": []
          }
        }
      ]
    }
  ]
}